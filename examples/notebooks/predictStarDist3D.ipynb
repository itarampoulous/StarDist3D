{
 "cells": [
  {
   "attachments": {},
   "cell_type": "markdown",
   "metadata": {},
   "source": [
    "# Prediction using StarDist3D"
   ]
  },
  {
   "cell_type": "code",
   "execution_count": 2,
   "metadata": {},
   "outputs": [],
   "source": [
    "import sys, os\n",
    "from pathlib import Path\n",
    "import h5py\n",
    "from skimage import io\n",
    "import numpy as np\n",
    "import time\n",
    "import warnings\n",
    "import argparse\n",
    "import yaml\n",
    "\n",
    "from tqdm import tqdm\n",
    "\n",
    "import numpy as np\n",
    "import pandas as pd\n",
    "import matplotlib.pyplot as plt\n",
    "\n",
    "import torch\n",
    "\n",
    "from stardist_tools.csbdeep_utils import normalize\n",
    "from src.data.utils import load_img\n",
    "\n",
    "from src.models.config import Config3D\n",
    "from src.models.stardist3d import StarDist3D\n",
    "from glob import glob\n",
    "\n",
    "from src.predict import load_model_using_config, infer_using_model"
   ]
  },
  {
   "attachments": {},
   "cell_type": "markdown",
   "metadata": {},
   "source": [
    "### Define prediction parameters"
   ]
  },
  {
   "cell_type": "code",
   "execution_count": null,
   "metadata": {},
   "outputs": [],
   "source": [
    "# Define the path to a directory containing the test images for prediction:\n",
    "image_dir = '/path/to/input/images/'\n",
    "export_dir = '/path/to/export/predictions/'\n",
    "checkpoints_dir = '/path/to/models/checkpoints/'\n",
    "\n",
    "\n",
    "config = Config3D(\n",
    "\n",
    "    # Name of the model\n",
    "    # This should match the directory the contains the model's checkpoints to be used\n",
    "    name                           = 'Stadist3D_v.....',\n",
    "\n",
    "    isTrain = False,\n",
    "\n",
    "    # ========================= Inference ==================================\n",
    "\n",
    "    # Whether to use GPU\n",
    "    use_gpu                        = True if torch.cuda.is_available() else False,\n",
    "    #gpu_ids                       = [0],\n",
    "    # whether to use Automatic Mixed Precision\n",
    "    use_amp                        = True)\n",
    "\n",
    "#Load weights for last model from checkpoints_dir\n",
    "config.checkpoints_dir = checkpoints_dir\n",
    "\n",
    "#Load model weights from last epoch\n",
    "config.load_epoch = config.n_epochs\n",
    "\n",
    "model = StarDist3D(config)"
   ]
  },
  {
   "attachments": {},
   "cell_type": "markdown",
   "metadata": {},
   "source": [
    "### Inference using StarDist3D"
   ]
  },
  {
   "cell_type": "code",
   "execution_count": null,
   "metadata": {},
   "outputs": [],
   "source": [
    "test_images_paths = list(glob(image_dir + \"/*.tif\"))\n",
    "print(f\"{len(test_images_paths)} images detected in directory\")\n",
    "\n",
    "\n",
    "export_dir = export_dir + config.name +  '/last_model_epoch' + str(model.opt.epoch_count) + '/'\n",
    "infer_using_model(model = model, test_images_paths=test_images_paths, export_dir=export_dir)\n",
    "\n",
    "print(f\"Predicted masks have been successfully exported in: {export_dir}\")"
   ]
  }
 ],
 "metadata": {
  "kernelspec": {
   "display_name": "StarDist3D_gh",
   "language": "python",
   "name": "python3"
  },
  "language_info": {
   "codemirror_mode": {
    "name": "ipython",
    "version": 3
   },
   "file_extension": ".py",
   "mimetype": "text/x-python",
   "name": "python",
   "nbconvert_exporter": "python",
   "pygments_lexer": "ipython3",
   "version": "3.7.9"
  },
  "orig_nbformat": 4
 },
 "nbformat": 4,
 "nbformat_minor": 2
}
